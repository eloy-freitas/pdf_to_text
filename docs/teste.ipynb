{
 "cells": [
  {
   "cell_type": "code",
   "execution_count": 17,
   "metadata": {},
   "outputs": [],
   "source": [
    "import easyocr\n",
    "reader = easyocr.Reader(['en'])"
   ]
  },
  {
   "cell_type": "code",
   "execution_count": 18,
   "metadata": {},
   "outputs": [],
   "source": [
    "import pandas as pd"
   ]
  },
  {
   "cell_type": "code",
   "execution_count": 19,
   "metadata": {},
   "outputs": [],
   "source": [
    "result = reader.readtext('Capturar.PNG')\n"
   ]
  },
  {
   "cell_type": "code",
   "execution_count": 75,
   "metadata": {},
   "outputs": [],
   "source": [
    "def create_ocr_metadata(ocr_output: list) -> pd.DataFrame:\n",
    "    dataset = []\n",
    "    for row in ocr_output:\n",
    "        text = row[1]\n",
    "        box = row[0]\n",
    "        x_start = box[0][0]\n",
    "        y_start = box[0][1]\n",
    "        y_end = box[1][1]\n",
    "        x = x_start\n",
    "        text_size = len(text)\n",
    "        y = ((y_end - y_start) / 2) + y_end\n",
    "        dataset.append({\n",
    "            'text': text,\n",
    "            'x': x, \n",
    "            'y': y, \n",
    "            'text_size': text_size\n",
    "        })\n",
    "    tbl = pd.DataFrame(dataset).astype({'text': 'string'})\n",
    "    max_y = max(tbl['y'])\n",
    "\n",
    "    tbl['y'] = tbl['y'].apply(lambda y: max_y - y)\n",
    "\n",
    "    return tbl\n",
    "\n",
    "def calculate_axis_frequency(\n",
    "    dataset: pd.DataFrame, \n",
    "    axis_source_name: str, \n",
    "    axis_target_name: str, \n",
    "    axis_source_name_aux: str, \n",
    "    bins: int = 15\n",
    ") -> pd.DataFrame:\n",
    "    axis_source_name_aux = f'faixa_{axis_source_name}'\n",
    "    dataset[axis_source_name_aux] = pd.cut(dataset[axis_source_name], bins=bins)\n",
    "    faixas = pd.DataFrame(dataset[axis_source_name_aux].sort_values().drop_duplicates())\n",
    "\n",
    "    faixas[axis_target_name] = range(0, len(faixas))\n",
    "    return faixas\n",
    "\n",
    "def map_text_positions(dataset: pd.DataFrame, num_rows: int=80, num_columns: int=40) -> pd.DataFrame:\n",
    "    linha_source_name = 'y'\n",
    "    linha_target_name = 'linha'\n",
    "    coluna_source_name = 'x'\n",
    "    coluna_target_name = 'coluna'\n",
    "    linha_source_name_aux = f'faixa_{linha_source_name}'\n",
    "    coluna_source_name_aux = f'faixa_{coluna_source_name}'\n",
    "    linhas = calculate_axis_frequency(dataset, linha_source_name, linha_target_name, linha_source_name_aux, num_rows)\n",
    "    colunas = calculate_axis_frequency(dataset, coluna_source_name, coluna_target_name, coluna_source_name_aux, num_columns)\n",
    "\n",
    "    merge = pd.merge(left=dataset, right=linhas, on=[linha_source_name_aux], how='left')\n",
    "    merge = pd.merge(left=merge, right=colunas, on=[coluna_source_name_aux], how='left')\n",
    "    \n",
    "    return merge\n",
    "\n",
    "def extract_formated_text_from_image(ocr_output: object, num_rows: int=80, num_columns: int=40):\n",
    "    dataset = create_ocr_metadata(ocr_output)\n",
    "    dataset = map_text_positions(dataset, num_rows, num_columns)\n",
    "    text = format_output(dataset)\n",
    "    return text\n",
    "\n",
    "def format_line(dataset: pd.DataFrame):\n",
    "    line_text = []\n",
    "    prev_end = 0\n",
    "    \n",
    "    for _, row in dataset.iterrows():\n",
    "        start_pos = row['x']\n",
    "        \n",
    "        if start_pos > prev_end:\n",
    "            spaces = ' ' * int((start_pos - prev_end) / 6) \n",
    "            line_text.append(spaces)\n",
    "        \n",
    "        line_text.append(row['text'])\n",
    "        prev_end = start_pos + row['text_size'] * 6\n",
    "    \n",
    "    return ''.join(line_text)\n",
    "\n",
    "def format_output(dataset: pd.DataFrame):\n",
    "    dataset = dataset.sort_values(by=['linha', 'coluna'],  ascending=[False, True])\n",
    "    grouped = dataset.groupby('linha')\n",
    "    reconstructed_doc = []\n",
    "    for _, group in grouped:\n",
    "        reconstructed_doc.append(format_line(group))\n",
    "\n",
    "    reconstructed_doc.reverse()\n",
    "\n",
    "    final_text = '\\n'.join(reconstructed_doc)\n",
    "    \n",
    "    return final_text"
   ]
  },
  {
   "cell_type": "code",
   "execution_count": 76,
   "metadata": {},
   "outputs": [
    {
     "name": "stdout",
     "output_type": "stream",
     "text": [
      "                                                  Lorem Ipsm\n",
      "                            \"Neque porro quisquam est qui dolorem ipsum quia dolor sit amet; consectetur; adipisci velit__.\n",
      "                                There is no one who loves pain i-self, who seeks af-er i-and wants to have i-, simply because it is pain_'\n",
      "                                                                                  whv do we use it}\n",
      "     what is Lorem Ipsum}\n",
      "     Lorem Ipsum is simply dummy text of the printing and typesetting             It is a long established fact that   reader will be distracted by the\n",
      "     industry: Lorem Ipsum     has been the industry's standard dummy             readable content of     page when looking at its layout: The point of\n",
      "     text ever since the   500s, when an unknown printer took         galley     using Lorem Ipsum is that it has     more-or-less normal distribution\n",
      "     of type and  scrambled   it tO make     type specimen    book:  It has     of letters      opposed       using   Content   here   content   here' ,\n",
      "     survived not only five centuries_   but also the leap   into electronic     making   it look like readable    English: Many desktop publishing\n",
      "     typesetting remaining essentially unchanged. It was popularised in           packages   and  web page editors     now use   Lorem Ipsum        their\n",
      "     the 19605 with the    release of Letraset sheets containing      Lorem       default model text;   and    search for 'lorem ipsum' will uncover\n",
      "     Ipsum   passages;   and   more   recently  with  desktop   publishing      many web sites still in their infancy: Various versions have evolved\n",
      "     software like Aldus  PageMaker including versions of Lorem Ipsum             over  tne years   sometimes by accident;      sometimes    on purpose\n",
      "                                                                                  (injected humour and the like):\n",
      "     where Does it come from}                                                     where can I get somel\n",
      "     Contrary to popular belief, Lorem Ipsum is not simply random text.            There are many variations of passages of Lorem Ipsum available,\n",
      "     It has roots in     piece of classical Latin literature from 45 BC,          but the majority have suffered alteration in some form; by injected\n",
      "     making       over  2000  years   old. Richard   McClintock;      Latin     humour,       randomised    words   which   dont look    even  slightly\n",
      "     professor at Hampden-Sydney       College in Virginia, looked up one of      believable: If you are going to use     passage of Lorem Ipsum; yOu\n",
      "     the more obscure Latin words;      consectetur; from       orem Ipsum        need to be sure there isn't anything embarrassing hidden in the\n",
      "     passage   and  going through the cites of the       word      classicab    middle of text: All the Lorem Ipsum generators         on the Internet\n",
      "     literature  discovered   the  undoubtable     source.  Lorem    Ipsum      tend to repeat predefined chunks as necessary; making this the\n",
      "     comes from sections 1.10.32 and 1.10.33 of \"de Finibus Bonorum               first true generator on the Internet: It uses    dictionary of over 200\n",
      "     et Malorum\" (The Extremes of Good and Evil) by Cicero_        written in     Latin  words;   combined    with      handful       model   sentence\n",
      "     45 BC. This book is    treatise on the theory of ethics_  very popular      structures,    generate Lorem Ipsum which looks reasonable: The\n",
      "     during the   Renaissance:   The first line of Lorem    Ipsum; \"Lorem        generated Lorem Ipsum is therefore always free from repetition;\n",
      "     ipsum dolor sit amet:.'   comes from     line in section 1.10.32             injected humour, or non-characteristic words etc:\n"
     ]
    }
   ],
   "source": [
    "num_rows: int=35\n",
    "num_columns: int=20\n",
    "\n",
    "texto = extract_formated_text_from_image(result, num_rows, num_columns)\n",
    "print(texto)\n",
    "# with open('output', 'w') as file:\n",
    "#     file.write(texto)"
   ]
  },
  {
   "cell_type": "code",
   "execution_count": 42,
   "metadata": {},
   "outputs": [],
   "source": [
    "tbl['lag_coluna'] = tbl.groupby('linha')['coluna'].shift(1)\n",
    "\n",
    "#tbl['lag_coluna'] = tbl['lag_coluna'].fillna(-1)\n",
    "\n",
    "tbl = tbl.astype({'lag_coluna': 'Int64'})\n",
    "tbl['spaces'] = tbl['coluna'] - tbl['lag_coluna']\n",
    "tbl['spaces'] = tbl['spaces'] // 2\n",
    "tbl['spaces'] = tbl['spaces'].fillna(0)\n",
    "tbl = tbl.sort_values(by=['linha', 'coluna'],  ascending=[False, True])\n",
    "tbl[['text','x', 'y', 'text_size', 'faixa_y', 'faixa_x','linha','coluna']].to_csv('dataset.csv', index=False)"
   ]
  },
  {
   "cell_type": "code",
   "execution_count": 23,
   "metadata": {},
   "outputs": [],
   "source": [
    "# from pandas._libs.missing import NAType\n",
    "# texto = []\n",
    "# for row in tbl.itertuples():\n",
    "#     if pd.isna(row.lag_coluna):\n",
    "#         linha = []\n",
    "    \n",
    "#     linha.append(row.text)\n",
    "#     linha.\n",
    "\n",
    "#     # linha = []\n",
    "#     # tabs = ['\\t'] * row.spaces\n",
    "#     # linha.append(row)\n",
    "    \n"
   ]
  },
  {
   "cell_type": "code",
   "execution_count": 49,
   "metadata": {},
   "outputs": [
    {
     "name": "stdout",
     "output_type": "stream",
     "text": [
      "      Lorem Ipsm             \n",
      "   \"Neque porro quisquam est qui dolorem ipsum quia dolor sit amet; consectetur; adipisci velit__.                \n",
      "   There is no one who loves pain i-self, who seeks af-er i-and wants to have i-, simply because it is pain_'                \n",
      "what is Lorem Ipsum}          whv do we use it}         \n",
      "Lorem Ipsum is simply dummy text of the printing and typesetting          It is a long established fact that     reader will be distracted by the    \n",
      "industry: Lorem Ipsum   has been the industry's standard dummy       readable content of    page when looking at its layout: The point of     \n",
      "text ever since the   500s, when an unknown printer took     galley using Lorem Ipsum is that it has     more-or-less normal distribution    \n",
      " scrambled         of letters         here' ,\n",
      "of type and   it tO make  type specimen   book: It has   opposed   using Content here content \n",
      "survived not only five centuries_     but also the leap  into electronic   making it look like readable    English: Many desktop publishing   \n",
      "typesetting remaining essentially unchanged. It was popularised in                   \n",
      "          packages  web page editors   now use  Lorem Ipsum  their\n",
      "the 19605 with the   release of Letraset sheets containing      Lorem default model text;   and search for 'lorem ipsum' will uncover     \n",
      "       desktop   many web sites still in their infancy: Various versions have evolved         \n",
      "Ipsum passages; and more recently  with  publishing           \n",
      "software like Aldus  PageMaker including versions of Lorem Ipsum        over tne years  sometimes by accident;    sometimes on purpose \n",
      "          (injected humour and the like):         \n",
      "where Does it come from}          where can I get somel         \n",
      "Contrary to popular belief, Lorem Ipsum is not simply random text.                   \n",
      "          There are many variations of passages of Lorem Ipsum available,         \n",
      "It has roots in  piece of classical Latin literature from 45 BC,        but the majority have suffered alteration in some form; by injected         \n",
      "making over 2000 years old. Richard McClintock;   Latin humour,  randomised  words which dont look  even slightly\n",
      "professor at Hampden-Sydney     in Virginia, looked up one of     believable:  If you are going to use    passage of Lorem Ipsum; yOu   \n",
      "    College               \n",
      "the more obscure Latin words;    consectetur; from    orem Ipsum  need to be sure there isn't anything embarrassing hidden in the         \n",
      " and going through the cites of the     word classicab  middle of text: All the Lorem Ipsum generators        on the Internet \n",
      "passage                   \n",
      "literature discovered  the undoubtable  source. Lorem  Ipsum tend to repeat predefined chunks as necessary; making this the         \n",
      "comes from sections 1.10.32 and 1.10.33 of \"de Finibus Bonorum          first true generator on the Internet: It uses       dictionary of over 200  \n",
      "et Malorum\" (The Extremes of Good and Evil) by Cicero_        written in  Latin words; combined  with  handful  model sentence\n",
      "45 BC. This book is   treatise on the theory of ethics_     very popular  structures,  generate Lorem Ipsum which looks reasonable: The       \n",
      "during the Renaissance:  The first line of Lorem    Ipsum; \"Lorem   generated Lorem Ipsum is therefore always free from repetition;         \n",
      "ipsum dolor sit amet:.'   comes from  line in section 1.10.32     injected humour, or non-characteristic words etc:         \n"
     ]
    }
   ],
   "source": [
    "# Create empty grid\n",
    "max_row = tbl['linha'].max()\n",
    "max_col = tbl['coluna'].max()\n",
    "grid = [['' for _ in range(max_col + 1)] for _ in range(max_row + 1)]\n",
    "\n",
    "# Fill the grid\n",
    "for _, row in tbl.iterrows():\n",
    "    grid[max_row - row['linha']][row['coluna']] = row['text']\n",
    "\n",
    "# Convert to text\n",
    "final_text = '\\n'.join([' '.join(row) for row in grid])\n",
    "print(final_text)"
   ]
  },
  {
   "cell_type": "code",
   "execution_count": null,
   "metadata": {},
   "outputs": [],
   "source": [
    "def reconstruct_line(line_df):\n",
    "    line_text = []\n",
    "    prev_end = 0\n",
    "    \n",
    "    for _, row in line_df.iterrows():\n",
    "        start_pos = row['x']\n",
    "        \n",
    "        if start_pos > prev_end:\n",
    "            spaces = ' ' * int((start_pos - prev_end) / 6) \n",
    "            line_text.append(spaces)\n",
    "        \n",
    "        line_text.append(row['text'])\n",
    "        prev_end = start_pos + row['text_size'] * 6\n",
    "    \n",
    "    return ''.join(line_text)\n",
    "\n",
    "\n",
    "tbl = tbl.sort_values(by=['linha', 'coluna'],  ascending=[False, True])\n",
    "grouped = tbl.groupby('linha')\n",
    "reconstructed_doc = []\n",
    "for linha, group in grouped:\n",
    "    reconstructed_doc.append(reconstruct_line(group))\n",
    "\n",
    "reconstructed_doc.reverse()\n",
    "\n",
    "final_text = '\\n'.join(reconstructed_doc)\n",
    "with open('output', 'w') as file:\n",
    "    file.write(final_text)"
   ]
  },
  {
   "cell_type": "code",
   "execution_count": 28,
   "metadata": {},
   "outputs": [
    {
     "data": {
      "text/plain": [
       "<Axes: xlabel='x', ylabel='y'>"
      ]
     },
     "execution_count": 28,
     "metadata": {},
     "output_type": "execute_result"
    },
    {
     "data": {
      "image/png": "[encoded data removed]",
      "text/plain": [
       "<Figure size 640x480 with 1 Axes>"
      ]
     },
     "metadata": {},
     "output_type": "display_data"
    }
   ],
   "source": [
    "tbl:pd.DataFrame = extract_formated_text_from_image(result, 100, 50)\n",
    "tbl.plot(kind='scatter', x='x', y='y')"
   ]
  },
  {
   "cell_type": "code",
   "execution_count": 29,
   "metadata": {},
   "outputs": [
    {
     "data": {
      "text/plain": [
       "<Axes: xlabel='coluna', ylabel='linha'>"
      ]
     },
     "execution_count": 29,
     "metadata": {},
     "output_type": "execute_result"
    },
    {
     "data": {
      "image/png": "[encoded data removed]",
      "text/plain": [
       "<Figure size 640x480 with 1 Axes>"
      ]
     },
     "metadata": {},
     "output_type": "display_data"
    }
   ],
   "source": [
    "tbl.plot(kind='scatter', x='coluna', y='linha')"
   ]
  },
  {
   "cell_type": "code",
   "execution_count": 30,
   "metadata": {},
   "outputs": [
    {
     "data": {
      "text/html": [
       "<div>\n",
       "<style scoped>\n",
       "    .dataframe tbody tr th:only-of-type {\n",
       "        vertical-align: middle;\n",
       "    }\n",
       "\n",
       "    .dataframe tbody tr th {\n",
       "        vertical-align: top;\n",
       "    }\n",
       "\n",
       "    .dataframe thead th {\n",
       "        text-align: right;\n",
       "    }\n",
       "</style>\n",
       "<table border=\"1\" class=\"dataframe\">\n",
       "  <thead>\n",
       "    <tr style=\"text-align: right;\">\n",
       "      <th></th>\n",
       "      <th>text</th>\n",
       "      <th>x</th>\n",
       "      <th>y</th>\n",
       "      <th>text_size</th>\n",
       "      <th>faixa_y</th>\n",
       "      <th>faixa_x</th>\n",
       "      <th>linha</th>\n",
       "      <th>coluna</th>\n",
       "    </tr>\n",
       "  </thead>\n",
       "  <tbody>\n",
       "    <tr>\n",
       "      <th>135</th>\n",
       "      <td>ipsum dolor sit amet:.'</td>\n",
       "      <td>31.0</td>\n",
       "      <td>0.0</td>\n",
       "      <td>23</td>\n",
       "      <td>(-0.661, 6.61]</td>\n",
       "      <td>(30.126, 48.48]</td>\n",
       "      <td>0</td>\n",
       "      <td>0</td>\n",
       "    </tr>\n",
       "    <tr>\n",
       "      <th>136</th>\n",
       "      <td>comes from</td>\n",
       "      <td>187.0</td>\n",
       "      <td>1.0</td>\n",
       "      <td>10</td>\n",
       "      <td>(-0.661, 6.61]</td>\n",
       "      <td>(170.84, 188.32]</td>\n",
       "      <td>0</td>\n",
       "      <td>6</td>\n",
       "    </tr>\n",
       "    <tr>\n",
       "      <th>137</th>\n",
       "      <td>line in section 1.10.32</td>\n",
       "      <td>279.0</td>\n",
       "      <td>2.0</td>\n",
       "      <td>23</td>\n",
       "      <td>(-0.661, 6.61]</td>\n",
       "      <td>(275.72, 293.2]</td>\n",
       "      <td>0</td>\n",
       "      <td>12</td>\n",
       "    </tr>\n",
       "    <tr>\n",
       "      <th>138</th>\n",
       "      <td>injected humour, or non-characteristic words etc:</td>\n",
       "      <td>499.0</td>\n",
       "      <td>1.0</td>\n",
       "      <td>49</td>\n",
       "      <td>(-0.661, 6.61]</td>\n",
       "      <td>(485.48, 502.96]</td>\n",
       "      <td>0</td>\n",
       "      <td>22</td>\n",
       "    </tr>\n",
       "  </tbody>\n",
       "</table>\n",
       "</div>"
      ],
      "text/plain": [
       "                                                  text      x    y  text_size  \\\n",
       "135                            ipsum dolor sit amet:.'   31.0  0.0         23   \n",
       "136                                         comes from  187.0  1.0         10   \n",
       "137                            line in section 1.10.32  279.0  2.0         23   \n",
       "138  injected humour, or non-characteristic words etc:  499.0  1.0         49   \n",
       "\n",
       "            faixa_y           faixa_x  linha  coluna  \n",
       "135  (-0.661, 6.61]   (30.126, 48.48]      0       0  \n",
       "136  (-0.661, 6.61]  (170.84, 188.32]      0       6  \n",
       "137  (-0.661, 6.61]   (275.72, 293.2]      0      12  \n",
       "138  (-0.661, 6.61]  (485.48, 502.96]      0      22  "
      ]
     },
     "execution_count": 30,
     "metadata": {},
     "output_type": "execute_result"
    }
   ],
   "source": [
    "tbl[tbl['linha']==0]"
   ]
  }
 ],
 "metadata": {
  "kernelspec": {
   "display_name": "pdf_to_text",
   "language": "python",
   "name": "python3"
  },
  "language_info": {
   "codemirror_mode": {
    "name": "ipython",
    "version": 3
   },
   "file_extension": ".py",
   "mimetype": "text/x-python",
   "name": "python",
   "nbconvert_exporter": "python",
   "pygments_lexer": "ipython3",
   "version": "3.10.11"
  }
 },
 "nbformat": 4,
 "nbformat_minor": 2
}
